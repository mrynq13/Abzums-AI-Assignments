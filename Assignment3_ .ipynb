{
 "cells": [
  {
   "cell_type": "code",
   "execution_count": null,
   "id": "ad04f86a",
   "metadata": {},
   "outputs": [],
   "source": [
    "# Student Information\n",
    "# Please enter your details for grading purposes:\n",
    "\n",
    "Your_Name = \"maryam narqany\"\n",
    "Your_Email = \"Mrymnrqany2004@gmail.com\"\n",
    "Your_GitHub_Link = \"https://github.com/mrynq13/Abz\"\n"
   ]
  },
  {
   "cell_type": "code",
   "execution_count": null,
   "id": "ba1a1bfe",
   "metadata": {},
   "outputs": [],
   "source": [
    "# Basic Function Definition\n",
    "\n",
    "def greet(name):\n",
    "    print(f\"Hello, {name}!\")\n"
   ]
  },
  {
   "cell_type": "code",
   "execution_count": null,
   "id": "fc0f02e8",
   "metadata": {},
   "outputs": [],
   "source": [
    "# Function with Return Value\n",
    "\n",
    "def analyze_numbers(a, b):\n",
    "    print(f\"{a}, {b}\")\n",
    "    total = sum([a, b])  \n",
    "    if total % 2 == 0:\n",
    "        print(\"The sum is even.\")\n",
    "    else:\n",
    "        print(\"The sum is odd.\")\n",
    "    return total\n"
   ]
  },
  {
   "cell_type": "code",
   "execution_count": null,
   "id": "e7a3384a",
   "metadata": {},
   "outputs": [],
   "source": [
    "# Function with Multiple Return Value\n",
    "\n",
    "def find_a_b(sum_xy, diff_xy):\n",
    "    x = (sum_xy + diff_xy) / 2\n",
    "    y = (sum_xy - diff_xy) / 2\n",
    "    return x, y\n"
   ]
  },
  {
   "cell_type": "code",
   "execution_count": null,
   "id": "054c426e",
   "metadata": {},
   "outputs": [],
   "source": [
    "# Function with Default Argument\n",
    "\n",
    "def calculate_discounted_price(price, discount=10, tax=5):\n",
    "    print(f\"Original price: ${price}\")\n",
    "\n",
    "    discount_amount = price * (discount / 100)\n",
    "    price_after_discount = price - discount_amount\n",
    "    print(f\"Discount ({discount}%): -${discount_amount}\")\n",
    "    print(f\"Price after discount: ${price_after_discount}\")\n",
    "\n",
    "    tax_amount = price_after_discount * (tax / 100)\n",
    "    final_price = price_after_discount + tax_amount\n",
    "    print(f\"Tax ({tax}%): +${tax_amount}\")\n",
    "    print(f\"Final price: ${final_price}\")\n",
    "\n",
    "    return round(final_price, 2)\n",
    "\n",
    "# Example usage:\n",
    "calculate_discounted_price(100)\n"
   ]
  },
  {
   "cell_type": "markdown",
   "id": "33eeec4e",
   "metadata": {},
   "source": [
    "---\n",
    "\n",
    "Cell 4  \n",
    "This function calculates the final price of a product after applying a discount and adding tax.\n",
    "\n",
    "1. It prints the original price.  \n",
    "2. It calculates the discount amount using the given percentage.  \n",
    "3. It subtracts the discount from the original price and prints the result.  \n",
    "4. Then, it calculates the tax based on the discounted price.  \n",
    "5. It adds the tax to the discounted price to get the final price.  \n",
    "6. The function prints each step and finally returns the rounded final price.\n",
    "\n",
    "---\n"
   ]
  },
  {
   "cell_type": "code",
   "execution_count": null,
   "id": "d317a930",
   "metadata": {},
   "outputs": [],
   "source": [
    "# Lambda with map()\n",
    "\n",
    "full_names = [\"Alexander Fleming\", \"Elizabeth Blackwell\", \"Edward Jenner\", \"William Osler\"]\n",
    "first_names = list(map(lambda name: name.split()[0], full_names))\n",
    "print(first_names)\n"
   ]
  },
  {
   "cell_type": "code",
   "execution_count": null,
   "id": "dfa1288b",
   "metadata": {},
   "outputs": [],
   "source": [
    "# Lambda with filter()\n",
    "\n",
    "users = [\n",
    "    {\"name\": \"Ali\", \"age\": 17, \"active\": True},\n",
    "    {\"name\": \"Sara\", \"age\": 22, \"active\": False},\n",
    "    {\"name\": \"Reza\", \"age\": 19, \"active\": True},\n",
    "    {\"name\": \"Lina\", \"age\": 25, \"active\": True},\n",
    "    {\"name\": \"Mona\", \"age\": 16, \"active\": True},\n",
    "    {\"name\": \"Javad\", \"age\": 20, \"active\": False},\n",
    "]\n",
    "\n",
    "active_adults = list(filter(lambda user: user[\"age\"] >= 18 and user[\"active\"], users))\n",
    "print(active_adults)\n"
   ]
  },
  {
   "cell_type": "code",
   "execution_count": null,
   "id": "6993dfdb",
   "metadata": {},
   "outputs": [],
   "source": [
    "# Exception Handling\n",
    "\n",
    "while True:\n",
    "    try:\n",
    "        numerator = float(input(\"Enter the numerator: \"))\n",
    "        denominator = float(input(\"Enter the denominator: \"))\n",
    "\n",
    "        result = numerator / denominator\n",
    "    except ValueError:\n",
    "        print(\"⚠️ Please enter valid numeric values.\")\n",
    "        continue\n",
    "    except ZeroDivisionError:\n",
    "        print(\"⚠️ Denominator cannot be zero. Try again.\")\n",
    "        continue\n",
    "    else:\n",
    "        print(f\"✅ Result: {round(result, 3)}\")\n",
    "        break\n",
    "    finally:\n",
    "        print(\"📘 Thank you for using the divider.\\n\")\n"
   ]
  },
  {
   "cell_type": "markdown",
   "id": "21daeb74",
   "metadata": {},
   "source": [
    "---\n",
    "\n",
    "Cell 7  \n",
    "This program is a loop that asks the user to enter two numbers: a numerator and a denominator. It tries to divide them.\n",
    "\n",
    "1. If the input isn’t a number, it catches a ValueError and asks the user to enter valid numbers.  \n",
    "2. If the user enters 0 as the denominator, it catches a ZeroDivisionError and warns that division by zero is not allowed.  \n",
    "3. If no errors happen, it prints the result rounded to 3 decimal places and exits the loop.  \n",
    "4. No matter what happens, the message \"Thank you for using the divider.\" is printed at the end of each try, because it’s inside the finally block.\n",
    "\n",
    "---\n"
   ]
  }
 ],
 "metadata": {},
 "nbformat": 4,
 "nbformat_minor": 5
}
