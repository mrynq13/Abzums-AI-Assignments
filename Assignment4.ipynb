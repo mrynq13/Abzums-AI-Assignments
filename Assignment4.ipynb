{
  "metadata": {
    "kernelspec": {
      "name": "",
      "display_name": ""
    },
    "language_info": {
      "name": ""
    }
  },
  "nbformat_minor": 5,
  "nbformat": 4,
  "cells": [
    {
      "id": "432736c1",
      "cell_type": "code",
      "source": "board = [\"-\", \"-\", \"-\", \"-\", \"-\", \"-\", \"-\", \"-\", \"-\"]",
      "metadata": {},
      "outputs": [],
      "execution_count": null
    },
    {
      "id": "0607e36d",
      "cell_type": "code",
      "source": "def display_board():\n    print(\"\\n\")\n    print(board[0] + \" | \" + board[1] + \" | \" + board[2])\n    print(\"--+---+--\")\n    print(board[3] + \" | \" + board[4] + \" | \" + board[5])\n    print(\"--+---+--\")\n    print(board[6] + \" | \" + board[7] + \" | \" + board[8])\n    print(\"\\n\")",
      "metadata": {},
      "outputs": [],
      "execution_count": null
    },
    {
      "id": "e3524e16",
      "cell_type": "code",
      "source": "def choose_players():\n    while True:\n        player1 = input(\"Player 1, choose your symbol (X or O): \").upper()\n        if player1 == \"X\":\n            player2 = \"O\"\n            print(f\"Player 1 is {player1}, Player 2 is {player2}\")\n            return player1, player2\n        elif player1 == \"O\":\n            player2 = \"X\"\n            print(f\"Player 1 is {player1}, Player 2 is {player2}\")\n            return player1, player2\n        else:\n            print(\"Invalid input. Please choose 'X' or 'O'.\")",
      "metadata": {},
      "outputs": [],
      "execution_count": null
    },
    {
      "id": "458bf1e4",
      "cell_type": "code",
      "source": "def player_move(current_player):\n    while True:\n        try:\n            position = int(input(f\"Player {current_player}, choose a position (1-9): \"))\n            if position < 1 or position > 9:\n                print(\"Invalid input. Choose a number between 1 and 9.\")\n                continue\n            index = position - 1\n            if board[index] == \"-\":\n                board[index] = current_player\n                break\n            else:\n                print(\"That spot is already taken. Try again.\")\n        except ValueError:\n            print(\"Please enter a valid number.\")",
      "metadata": {},
      "outputs": [],
      "execution_count": null
    },
    {
      "id": "1498ebfa",
      "cell_type": "code",
      "source": "def check_winner():\n    win_conditions = [\n        [0, 1, 2], [3, 4, 5], [6, 7, 8],  # rows\n        [0, 3, 6], [1, 4, 7], [2, 5, 8],  # columns\n        [0, 4, 8], [2, 4, 6]              # diagonals\n    ]\n    for condition in win_conditions:\n        a, b, c = condition\n        if board[a] == board[b] == board[c] != \"-\":\n            return board[a]\n    if \"-\" not in board:\n        return \"Tie\"\n    return None",
      "metadata": {},
      "outputs": [],
      "execution_count": null
    },
    {
      "id": "2a02a850",
      "cell_type": "code",
      "source": "def switch_player(current):\n    return \"O\" if current == \"X\" else \"X\"",
      "metadata": {},
      "outputs": [],
      "execution_count": null
    },
    {
      "id": "2205cfb2",
      "cell_type": "code",
      "source": "def play_game():\n    player1, player2 = choose_players()\n    current_player = player1\n    winner = None\n\n    while winner is None:\n        display_board()\n        player_move(current_player)\n        winner = check_winner()\n        if winner is None:\n            current_player = switch_player(current_player)\n\n    display_board()\n    if winner == \"Tie\":\n        print(\"It's a tie!\")\n    else:\n        print(f\"Player {winner} wins!\")\n\n# Start the game\nplay_game()",
      "metadata": {},
      "outputs": [],
      "execution_count": null
    }
  ]
}