{
 "cells": [
  {
   "cell_type": "code",
   "execution_count": null,
   "id": "0e64aa47",
   "metadata": {},
   "outputs": [],
   "source": [
    "# Student Information\n",
    "# Please enter your details for grading purposes:\n",
    "Your_Name = \"maryam narqany\"\n",
    "Your_Email = \"Mrymnrqany2004@gmail.com\"\n",
    "Your_Github_Link = \"https://github.com/mrynq13/Abzums-AI-Assignments.git\""
   ]
  },
  {
   "cell_type": "code",
   "execution_count": null,
   "id": "24d2e35a",
   "metadata": {},
   "outputs": [],
   "source": [
    "# Write a program that reads a temperature (integer input).\n",
    "temperature = int(input(\"Enter the temperature: \"))\n",
    "\n",
    "if temperature > 30:\n",
    "    print(\"It's a hot day.\")\n",
    "elif temperature > 20:\n",
    "    print(\"It's a nice day.\")\n",
    "elif temperature > 10:\n",
    "    print(\"It's a bit chilly.\")\n",
    "else:\n",
    "    print(\"It's cold outside.\")"
   ]
  },
  {
   "cell_type": "code",
   "execution_count": null,
   "id": "1c72439e",
   "metadata": {},
   "outputs": [],
   "source": [
    "# Check concert eligibility\n",
    "age = int(input(\"Enter your age: \"))\n",
    "has_ticket = input(\"Do you have a ticket? (True/False): \") == \"True\"\n",
    "\n",
    "if age >= 18:\n",
    "    if has_ticket:\n",
    "        print(\"You can enter the concert.\")\n",
    "    else:\n",
    "        print(\"You need a ticket to enter.\")\n",
    "else:\n",
    "    print(\"You are too young for the concert.\")"
   ]
  },
  {
   "cell_type": "code",
   "execution_count": null,
   "id": "0e6be6c9",
   "metadata": {},
   "outputs": [],
   "source": [
    "# Create a list of 5 fruits\n",
    "fruits = [\"apple\", \"banana\", \"cherry\", \"mango\", \"kiwi\"]\n",
    "\n",
    "for fruit in fruits:\n",
    "    print(f\"I like {fruit}\")\n",
    "\n",
    "# Iterate over the string \"Python\"\n",
    "for letter in \"Python\":\n",
    "    print(letter)"
   ]
  },
  {
   "cell_type": "code",
   "execution_count": null,
   "id": "bc86c1e8",
   "metadata": {},
   "outputs": [],
   "source": [
    "# a) Print numbers from 1 to 10\n",
    "for i in range(1, 11):\n",
    "    print(i)\n",
    "\n",
    "# b) Calculate and print the sum of numbers from 1 to 10\n",
    "total = 0\n",
    "for i in range(1, 11):\n",
    "    total += i\n",
    "print(\"Sum:\", total)"
   ]
  },
  {
   "cell_type": "code",
   "execution_count": null,
   "id": "eedf385b",
   "metadata": {},
   "outputs": [],
   "source": [
    "# Use a while loop to count from 1 upwards\n",
    "count = 0\n",
    "while True:\n",
    "    count += 1\n",
    "    if count == 3:\n",
    "        continue\n",
    "    if count == 7:\n",
    "        break\n",
    "    print(count)"
   ]
  }
 ],
 "metadata": {},
 "nbformat": 4,
 "nbformat_minor": 5
}
